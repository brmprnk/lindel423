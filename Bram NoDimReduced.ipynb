{
 "cells": [
  {
   "cell_type": "markdown",
   "id": "motivated-committee",
   "metadata": {},
   "source": [
    "## Import and Cleanup Data"
   ]
  },
  {
   "cell_type": "code",
   "execution_count": 1,
   "id": "romantic-sending",
   "metadata": {
    "pycharm": {
     "name": "#%%\n"
    },
    "scrolled": true
   },
   "outputs": [],
   "source": [
    "import pandas as pd\n",
    "import pickle as pkl\n",
    "import numpy as np\n",
    "from sklearn.decomposition import PCA, FactorAnalysis\n",
    "from factor_analyzer import FactorAnalyzer\n",
    "from sklearn.cross_decomposition import CCA\n",
    "import matplotlib.pyplot as plt\n",
    "from mca import MCA\n",
    "import sys\n",
    "np.set_printoptions(threshold=sys.maxsize)\n"
   ]
  },
  {
   "cell_type": "code",
   "execution_count": 2,
   "id": "bd9e3705",
   "metadata": {},
   "outputs": [
    {
     "name": "stdout",
     "output_type": "stream",
     "text": [
      "Data successfully loaded\n"
     ]
    }
   ],
   "source": [
    "## If data already preprocessed, load it in, else do preprocessing\n",
    "\n",
    "try:\n",
    "    data = pd.read_csv('./data/finaltv.csv', index_col=0)\n",
    "    test = pd.read_csv('./data/finaltest.csv', index_col=0)\n",
    "    fc_test = pd.read_csv('./data/fc_test_10000.csv', index_col=0)\n",
    "    print(\"Data successfully loaded\")\n",
    "except Exception:\n",
    "    label, rev_index, features = pkl.load(open('./data/feature_index_all.pkl','rb'))\n",
    "    Lindel_training = pd.read_csv(\"./data/Lindel_training_65bp.csv\", sep=',', index_col=0)\n",
    "    Lindel_test = pd.read_csv(\"./data/Lindel_test_65bp.csv\", sep=',', index_col=0)\n",
    "\n",
    "    print(\"Number of labels : \", len(label.keys()))\n",
    "    print(\"Number of rev_index : \", len(rev_index.keys()))\n",
    "    print(\"Number of features : \", len(features.keys()))\n",
    "\n",
    "    # column descriptions\n",
    "    # Lindel_training.iloc[0] # guide sequences\n",
    "    # Lindel_training.iloc[1:3034] # 3033 binary features [2649 MH binary features + 384 one hot encoded features]\n",
    "    # Lindel_training.iloc[3034:] # 557 observed outcome frequencies\n",
    "\n",
    "    # # Merge training and test set for dimensionality reduction\n",
    "    all_data = pd.concat([Lindel_training, Lindel_test])\n",
    "    # data_features = all_data.iloc[:, 1:3034]\n",
    "\n",
    "    # # Clean up data\n",
    "    features = dict(sorted(features.items(), key=lambda item: item[1]))\n",
    "    feature_labels = list(features.keys())\n",
    "\n",
    "    labels = dict(sorted(label.items(), key=lambda item: item[1]))\n",
    "    class_labels = list(labels.keys())\n",
    "\n",
    "    one_hot_labels = []\n",
    "    for i in range(80):\n",
    "        one_hot_labels.append(\"nt {}\".format(str(int(i / 4) + 1)))\n",
    "\n",
    "    for i in range(304):\n",
    "        one_hot_labels.append(\"2nt {}\".format(str(int(i / 16) + 1)))\n",
    "\n",
    "    one_hot_labels = np.array(one_hot_labels)\n",
    "\n",
    "    column_labels = np.concatenate((np.array(['Guide Sequence', '65bp']), feature_labels, one_hot_labels, class_labels))\n",
    "\n",
    "    # Rename columns of test and training set\n",
    "    Lindel_training = Lindel_training.set_axis(column_labels, axis=1, inplace=False)\n",
    "    Lindel_test = Lindel_test.set_axis(column_labels, axis=1, inplace=False)\n",
    "\n",
    "    Lindel_training.to_csv('./data/finaltv.csv')\n",
    "    Lindel_test.to_csv('./data/finaltest.csv')\n",
    "\n",
    "    data = pd.concat([Lindel_training, Lindel_test], axis=0)\n"
   ]
  },
  {
   "cell_type": "markdown",
   "id": "8500787a",
   "metadata": {},
   "source": [
    "## Run LINDEL Model, all configurations that do not require dimensionality reduction"
   ]
  },
  {
   "cell_type": "code",
   "execution_count": 3,
   "id": "c97c1bd7",
   "metadata": {
    "scrolled": false
   },
   "outputs": [
    {
     "name": "stdout",
     "output_type": "stream",
     "text": [
      "(4349, 3590) <class 'numpy.ndarray'>\n",
      "X Shape  (4349, 3033)  | y shape  (4349, 557)\n",
      "X_test Shape  (439, 3033)  | y_test shape  (439, 557)\n",
      "X_fc Shape  (10726, 3033)  | y_fc shape  (10726, 557)\n",
      "Now removing samples with only insertion events\n",
      "X_deletion Shape  (4230, 3033)  | y_deletion shape  (4230, 536)\n",
      "X_test_deletion Shape  (427, 3033)  | y_test_deletion shape  (427, 536)\n",
      "X_fc_deletion Shape  (10596, 3033)  | y_fc_deletion shape  (10596, 536)\n",
      "The first index of the first split is  423\n",
      "Number of train/val splits:  10\n"
     ]
    }
   ],
   "source": [
    "# Do data preprocessing\n",
    "\n",
    "import pickle as pkl\n",
    "import os,sys,csv,re\n",
    "\n",
    "from tqdm import tqdm_notebook as tqdm\n",
    "import pylab as pl\n",
    "import numpy as np\n",
    "from datetime import datetime\n",
    "\n",
    "\n",
    "from keras.callbacks import EarlyStopping\n",
    "from keras.layers import Dense, Input, Flatten\n",
    "from keras.models import Sequential, load_model\n",
    "from keras.regularizers import l2, l1\n",
    "from sklearn.model_selection import KFold\n",
    "import tensorflow as tf\n",
    "import tensorflow_addons as tfa\n",
    "from tensorflow.keras.callbacks import *\n",
    "\n",
    "# Make the data preprocessing a deterministic process\n",
    "np.random.seed(42)\n",
    "\n",
    "# Define useful functions\n",
    "def mse(x, y):\n",
    "    return ((x-y)**2).mean()\n",
    "\n",
    "def corr(x, y):\n",
    "    return np.corrcoef(x, y)[0, 1] ** 2\n",
    "\n",
    "def onehotencoder(seq):\n",
    "    nt= ['A','T','C','G']\n",
    "    head = []\n",
    "    l = len(seq)\n",
    "    for k in range(l):\n",
    "        for i in range(4):\n",
    "            head.append(nt[i]+str(k))\n",
    "\n",
    "    for k in range(l-1):\n",
    "        for i in range(4):\n",
    "            for j in range(4):\n",
    "                head.append(nt[i]+nt[j]+str(k))\n",
    "    head_idx = {}\n",
    "    for idx,key in enumerate(head):\n",
    "        head_idx[key] = idx\n",
    "    encode = np.zeros(len(head_idx))\n",
    "    for j in range(l):\n",
    "        encode[head_idx[seq[j]+str(j)]] =1.\n",
    "    for k in range(l-1):\n",
    "        encode[head_idx[seq[k:k+2]+str(k)]] =1.\n",
    "    return encode\n",
    "\n",
    "def kfoldsplits(X):\n",
    "    \"\"\"Split annotations\"\"\"\n",
    "    kf = KFold(n_splits=10, shuffle=False)\n",
    "    splits = []\n",
    "    for trainIdx, validIdx in kf.split(X):\n",
    "        splits.append((trainIdx, validIdx))\n",
    "        \n",
    "    print(\"The first index of the first split is \", splits[0][0][0])\n",
    "\n",
    "    return splits\n",
    "\n",
    "# Preprocess data\n",
    "model_data = data.values[:,2:].astype(np.float32)\n",
    "test_data = test.values[:, 2:].astype(np.float32)\n",
    "fc_data = fc_test.values[:, 1:].astype(np.float32)\n",
    "print(model_data.shape, type(model_data))\n",
    "\n",
    "# Sum up deletions and insertions to\n",
    "X = model_data[:, :(2649 + 384)]\n",
    "y = model_data[:, (2649 + 384):]\n",
    "\n",
    "X_test = test_data[:, :(2649 + 384)]\n",
    "y_test = test_data[:, (2649 + 384):]\n",
    "\n",
    "X_fc = fc_data[:, :(2649 + 384)]\n",
    "y_fc = fc_data[:, (2649 + 384):]\n",
    "\n",
    "print(\"X Shape \", X.shape, \" | y shape \", y.shape)\n",
    "print(\"X_test Shape \", X_test.shape, \" | y_test shape \", y_test.shape)\n",
    "print(\"X_fc Shape \", X_fc.shape, \" | y_fc shape \", y_fc.shape)\n",
    "\n",
    "\n",
    "# Randomly shuffle data\n",
    "idx = np.arange(len(y))\n",
    "np.random.shuffle(idx)\n",
    "X, y = X[idx], y[idx]\n",
    "test_idx = np.arange(len(y_test))\n",
    "np.random.shuffle(test_idx)\n",
    "X_test, y_test = X_test[test_idx], y_test[test_idx]\n",
    "fc_idx = np.arange(len(y_fc))\n",
    "np.random.shuffle(fc_idx)\n",
    "X_fc, y_fc = X_fc[fc_idx], y_fc[fc_idx]\n",
    "\n",
    "print(\"Now removing samples with only insertion events\")\n",
    "X_deletion, y_deletion = [], []\n",
    "X_test_deletion, y_test_deletion = [], []\n",
    "X_fc_deletion, y_fc_deletion = [], []\n",
    "\n",
    "# Remove samples that only have insertion events:\n",
    "for i in range(model_data.shape[0]):\n",
    "    if 1> sum(y[i,:536])> 0 :\n",
    "        y_deletion.append(y[i,:536]/sum(y[i,:536]))\n",
    "        X_deletion.append(X[i])\n",
    "        \n",
    "X_deletion, y_deletion = np.array(X_deletion), np.array(y_deletion)\n",
    "\n",
    "for i in range(test_data.shape[0]):\n",
    "    if 1> sum(y_test[i,:536])> 0 :\n",
    "        y_test_deletion.append(y_test[i,:536]/sum(y_test[i,:536]))\n",
    "        X_test_deletion.append(X_test[i])\n",
    "        \n",
    "X_test_deletion, y_test_deletion = np.array(X_test_deletion), np.array(y_test_deletion)\n",
    "\n",
    "for i in range(fc_data.shape[0]):\n",
    "    if 1> sum(y_fc[i,:536])> 0 :\n",
    "        y_fc_deletion.append(y_fc[i,:536]/sum(y_fc[i,:536]))\n",
    "        X_fc_deletion.append(X_fc[i])\n",
    "        \n",
    "X_fc_deletion, y_fc_deletion = np.array(X_fc_deletion), np.array(y_fc_deletion)\n",
    "\n",
    "print(\"X_deletion Shape \", X_deletion.shape, \" | y_deletion shape \", y_deletion.shape)\n",
    "print(\"X_test_deletion Shape \", X_test_deletion.shape, \" | y_test_deletion shape \", y_test_deletion.shape)\n",
    "print(\"X_fc_deletion Shape \", X_fc_deletion.shape, \" | y_fc_deletion shape \", y_fc_deletion.shape)\n",
    "\n",
    "\n",
    "\n",
    "splits = kfoldsplits(X_deletion)\n",
    "print(\"Number of train/val splits: \", len(splits))\n"
   ]
  },
  {
   "cell_type": "code",
   "execution_count": 53,
   "id": "380b3758",
   "metadata": {},
   "outputs": [
    {
     "name": "stdout",
     "output_type": "stream",
     "text": [
      "Nr of components :  910\n",
      "Total Percentage of variance explained =  99.99995231628418\n"
     ]
    },
    {
     "data": {
      "image/png": "[encoded data removed]",
      "text/plain": [
       "<Figure size 640x480 with 1 Axes>"
      ]
     },
     "metadata": {},
     "output_type": "display_data"
    }
   ],
   "source": [
    "# 1 : PCA\n",
    "\n",
    "for i in range(1):\n",
    "\n",
    "    # Instantiate PCA\n",
    "    n_components = 910\n",
    "    pca = PCA()\n",
    "\n",
    "    # Determine transformed features\n",
    "    X_train_pca = pca.fit_transform(X_deletion)\n",
    "\n",
    "    # Determine explained variance using explained_variance_ration_ attribute\n",
    "    exp_var_pca = pca.explained_variance_ratio_\n",
    "\n",
    "    # Cumulative sum of eigenvalues; This will be used to create step plot\n",
    "    # for visualizing the variance explained by each principal component.\n",
    "    cum_sum_eigenvalues = np.cumsum(exp_var_pca)\n",
    "    print(\"Nr of components : \", n_components)\n",
    "    print(\"Total Percentage of variance explained = \", cum_sum_eigenvalues[-1] * 100)\n",
    "    #\n",
    "    # Create the visualization plot\n",
    "    #b\n",
    "    plt.bar(range(0,len(exp_var_pca)), exp_var_pca, alpha=0.5, align='center', label='Individual explained variance')\n",
    "    plt.step(range(0,len(cum_sum_eigenvalues)), cum_sum_eigenvalues, where='mid',label='Cumulative explained variance')\n",
    "    plt.ylabel('Explained variance ratio')\n",
    "    plt.xlabel('Principal component index')\n",
    "    plt.legend(loc='best')\n",
    "    plt.tight_layout()\n",
    "    plt.show()"
   ]
  },
  {
   "cell_type": "code",
   "execution_count": 80,
   "id": "daf261ac",
   "metadata": {},
   "outputs": [],
   "source": [
    "pca_components = [140, 180, 237, 355, 697, 1491]\n",
    "variances = [80, 85, 90, 95, 99, 100]\n",
    "# % of variance explained: components, 80, 85, 90, 95, 99, 100(up to 6 decimals)\n",
    "\n",
    "for i, components in enumerate(pca_components):\n",
    "    \n",
    "    # Instantiate PCA\n",
    "    pca = PCA(n_components=components)\n",
    "\n",
    "    # Determine transformed features\n",
    "    X_pca = pca.fit_transform(X_deletion)\n",
    "    X_test_pca = pca.transform(X_test_deletion)\n",
    "    X_fc_pca = pca.transform(X_fc_deletion)\n",
    "    \n",
    "    np.save(\"./data/pca/tv_{}\".format(components), X_pca)\n",
    "    np.save(\"./data/pca/test_{}\".format(components), X_test_pca)\n",
    "    np.save(\"./data/pca/fc_{}\".format(components), X_fc_pca)"
   ]
  },
  {
   "cell_type": "code",
   "execution_count": 56,
   "id": "7434386e",
   "metadata": {
    "scrolled": false
   },
   "outputs": [
    {
     "name": "stdout",
     "output_type": "stream",
     "text": [
      "PCA for  140 components\n",
      "PCA  1 of 10\n",
      "PCA  2 of 10\n",
      "PCA  3 of 10\n",
      "PCA  4 of 10\n",
      "PCA  5 of 10\n",
      "PCA  6 of 10\n",
      "PCA  7 of 10\n",
      "PCA  8 of 10\n",
      "PCA  9 of 10\n",
      "PCA  10 of 10\n",
      "PCA for  180 components\n",
      "PCA  1 of 10\n",
      "PCA  2 of 10\n",
      "PCA  3 of 10\n",
      "PCA  4 of 10\n",
      "PCA  5 of 10\n",
      "PCA  6 of 10\n",
      "PCA  7 of 10\n",
      "PCA  8 of 10\n",
      "PCA  9 of 10\n",
      "PCA  10 of 10\n",
      "PCA for  237 components\n",
      "PCA  1 of 10\n",
      "PCA  2 of 10\n",
      "PCA  3 of 10\n",
      "PCA  4 of 10\n",
      "PCA  5 of 10\n",
      "PCA  6 of 10\n",
      "PCA  7 of 10\n",
      "PCA  8 of 10\n",
      "PCA  9 of 10\n",
      "PCA  10 of 10\n",
      "PCA for  355 components\n",
      "PCA  1 of 10\n",
      "PCA  2 of 10\n",
      "PCA  3 of 10\n",
      "PCA  4 of 10\n",
      "PCA  5 of 10\n",
      "PCA  6 of 10\n",
      "PCA  7 of 10\n",
      "PCA  8 of 10\n",
      "PCA  9 of 10\n",
      "PCA  10 of 10\n",
      "PCA for  697 components\n",
      "PCA  1 of 10\n",
      "PCA  2 of 10\n",
      "PCA  3 of 10\n",
      "PCA  4 of 10\n",
      "PCA  5 of 10\n",
      "PCA  6 of 10\n",
      "PCA  7 of 10\n",
      "PCA  8 of 10\n",
      "PCA  9 of 10\n",
      "PCA  10 of 10\n",
      "PCA for  1491 components\n",
      "PCA  1 of 10\n",
      "PCA  2 of 10\n",
      "PCA  3 of 10\n",
      "PCA  4 of 10\n",
      "PCA  5 of 10\n",
      "PCA  6 of 10\n",
      "PCA  7 of 10\n",
      "PCA  8 of 10\n",
      "PCA  9 of 10\n",
      "PCA  10 of 10\n"
     ]
    }
   ],
   "source": [
    "# Make results dir\n",
    "# now = datetime.now()\n",
    "# dt_string = now.strftime(\"%d-%m-%Y %H:%M:%S\")\n",
    "# save_dir = os.path.join('./results', dt_string)\n",
    "# os.makedirs(save_dir)\n",
    "\n",
    "# print(\"Save dir is \", save_dir)\n",
    "\n",
    "save_dir = os.path.join('./results', 'PCA')\n",
    "\n",
    "\n",
    "# # Train model\n",
    "for p in range(len(pca_components)):\n",
    "    print(\"PCA for \", pca_components[p], \"components\")\n",
    "    pca_data = np.load(\"./data/pca/tv_{}.npy\".format(pca_components[p]))\n",
    "\n",
    "    for i in range(len(splits)):\n",
    "            print(\"PCA \", (i+1), \"of 10\")\n",
    "\n",
    "            train_split, val_split = splits[i]\n",
    "\n",
    "            x_train = pca_data[train_split]\n",
    "            x_valid = pca_data[val_split]\n",
    "\n",
    "            y_train = y_deletion[train_split]\n",
    "            y_valid = y_deletion[val_split]\n",
    "\n",
    "            tensorboard_callback = tf.keras.callbacks.TensorBoard(log_dir=\"{}/logs/pca\".format(save_dir))\n",
    "\n",
    "            checkpoint_name = save_dir + '/pca_{}_cp{}'.format(pca_components[p], i)\n",
    "            model_checkpoint_callback = tf.keras.callbacks.ModelCheckpoint(\n",
    "                filepath= checkpoint_name + '.h5',\n",
    "                monitor=\"val_loss\",\n",
    "                verbose=0,\n",
    "                save_best_only=True,\n",
    "                save_weights_only=False,\n",
    "                mode=\"min\")\n",
    "\n",
    "            csv_logger = CSVLogger('{}/pca_{}_{}.log'.format(save_dir, pca_components[p], i), separator=',', append=False)\n",
    "\n",
    "            model = Sequential()\n",
    "            model.add(Dense(536,  activation='softmax', input_shape=(x_train.shape[1],), kernel_regularizer=None))\n",
    "            model.compile(optimizer='adam', loss='categorical_crossentropy', metrics=['mse'])\n",
    "            history = model.fit(x_train, y_train, epochs=100, validation_data=(x_valid, y_valid),\n",
    "                      callbacks=[\n",
    "                          tensorboard_callback,\n",
    "                          model_checkpoint_callback,\n",
    "                          csv_logger], verbose=0)"
   ]
  },
  {
   "cell_type": "code",
   "execution_count": 83,
   "id": "b3cef467",
   "metadata": {
    "scrolled": true
   },
   "outputs": [],
   "source": [
    "from keras.models import load_model\n",
    "\n",
    "## Now load in models from results dir and get MSE values\n",
    "train_losses = []\n",
    "val_losses = []\n",
    "test_mse = []\n",
    "fc_mse = []\n",
    "\n",
    "for i in range(len(splits)):\n",
    "    res_log = pd.read_csv(\"./results/PCA/pca_697_{}.log\".format(i))\n",
    "    train_losses.append(res_log['loss'])\n",
    "    val_losses.append(res_log['val_loss'])\n",
    "    \n",
    "    best_model = load_model(\"./results/PCA/pca_697_cp{}.h5\".format(i))\n",
    "    test_mse.append(mse(best_model.predict(np.load(\"/home/bram/lindel423/data/pca/test_697.npy\")), y_test_deletion))\n",
    "    fc_mse.append(mse(best_model.predict(np.load('/home/bram/lindel423/data/pca/fc_697.npy')), y_fc_deletion))\n",
    "    \n"
   ]
  },
  {
   "cell_type": "code",
   "execution_count": 84,
   "id": "df8001e3",
   "metadata": {},
   "outputs": [
    {
     "name": "stdout",
     "output_type": "stream",
     "text": [
      "results test MSE 0.00028847292\n",
      "results fc MSE 0.00033510415\n"
     ]
    }
   ],
   "source": [
    "print(\"results test MSE\", np.mean(test_mse))\n",
    "print(\"results fc MSE\", np.mean(fc_mse))"
   ]
  },
  {
   "cell_type": "markdown",
   "id": "91300cf4",
   "metadata": {},
   "source": [
    "## fc_mse"
   ]
  },
  {
   "cell_type": "code",
   "execution_count": 85,
   "id": "156b0c56",
   "metadata": {},
   "outputs": [
    {
     "name": "stdout",
     "output_type": "stream",
     "text": [
      "min train loss :  2.535066103935242\n",
      "min val loss :  3.9847541570663454\n"
     ]
    }
   ],
   "source": [
    "min_train_losses = []\n",
    "for run in train_losses:\n",
    "    min_train_losses.append(np.min(run))\n",
    "\n",
    "print(\"min train loss : \", np.mean(min_train_losses))\n",
    "\n",
    "min_val_losses = []\n",
    "for run in val_losses:\n",
    "    min_val_losses.append(np.min(run))\n",
    "    \n",
    "print(\"min val loss : \", np.mean(min_val_losses))"
   ]
  },
  {
   "cell_type": "code",
   "execution_count": 86,
   "id": "70ce41c2",
   "metadata": {},
   "outputs": [],
   "source": [
    "## Now for the plotting\n",
    "# Need 4 values for each epoch: mean, std, min, max\n",
    "\n",
    "train_losses = np.array(train_losses)\n",
    "val_losses = np.array(val_losses)\n",
    "\n",
    "train_mean = np.mean(train_losses, axis=0)\n",
    "train_std = np.std(train_losses, axis=0)\n",
    "train_min = np.min(train_losses, axis=0)\n",
    "train_max = np.max(train_losses, axis=0)\n",
    "\n",
    "val_mean = np.mean(val_losses, axis=0)\n",
    "val_std = np.std(val_losses, axis=0)\n",
    "val_min = np.min(val_losses, axis=0)\n",
    "val_max = np.max(val_losses, axis=0)\n",
    "\n",
    "x = np.arange(1, 101)\n",
    "\n"
   ]
  },
  {
   "cell_type": "code",
   "execution_count": 87,
   "id": "a916bac4",
   "metadata": {},
   "outputs": [],
   "source": [
    "import matplotlib.pyplot as plt"
   ]
  },
  {
   "cell_type": "code",
   "execution_count": 88,
   "id": "1c7aaeab",
   "metadata": {},
   "outputs": [],
   "source": [
    "def early_stopping_epoch(loss, patience=1):\n",
    "    \"\"\"Calculate in which epoch ES would have kicked in\"\"\"\n",
    "    \n",
    "    lowest_loss = 10000 ## A high number\n",
    "    counter = 0\n",
    "    epoch = 100\n",
    "    \n",
    "    for i in range(len(loss)):\n",
    "        \n",
    "        if loss[i] < lowest_loss:\n",
    "            lowest_loss = loss[i]\n",
    "            counter = 0\n",
    "        else:\n",
    "            if counter >= patience:\n",
    "                epoch = i + 1 # index at 1\n",
    "                break\n",
    "            else:\n",
    "                counter += 1\n",
    "            \n",
    "    \n",
    "    return epoch\n",
    "        "
   ]
  },
  {
   "cell_type": "code",
   "execution_count": 50,
   "id": "fde793b3",
   "metadata": {
    "scrolled": true
   },
   "outputs": [
    {
     "data": {
      "text/plain": [
       "array([6.12175088, 5.98695984, 5.87238216, 5.77347417, 5.68652921,\n",
       "       5.60894704, 5.53903308, 5.47560472, 5.41777606, 5.36519027,\n",
       "       5.31718783, 5.27365432, 5.23410273, 5.19827075, 5.166008  ,\n",
       "       5.13692985, 5.11076717, 5.08734889, 5.0665555 , 5.04805579,\n",
       "       5.03154807, 5.01708593, 5.0043406 , 4.99312367, 4.98339329,\n",
       "       4.97482972, 4.9673419 , 4.96091733, 4.95538259, 4.95065203,\n",
       "       4.94644642, 4.94295306, 4.93986835, 4.93719954, 4.93492198,\n",
       "       4.9330348 , 4.93135285, 4.92991872, 4.92865033, 4.9275959 ,\n",
       "       4.92673965, 4.92596068, 4.92536116, 4.92480621, 4.92438402,\n",
       "       4.92400041, 4.92373295, 4.92351131, 4.92339287, 4.92328439,\n",
       "       4.92329392, 4.92323174, 4.92330718, 4.92341881, 4.92356172,\n",
       "       4.92370648, 4.92387924, 4.92410526, 4.92435584, 4.92457547,\n",
       "       4.92490478, 4.92521577, 4.92552905, 4.92583785, 4.92615948,\n",
       "       4.92653823, 4.92696486, 4.92735691, 4.92779078, 4.92819357,\n",
       "       4.92858901, 4.9290997 , 4.92949166, 4.92995801, 4.93036299,\n",
       "       4.93088503, 4.93135381, 4.93183355, 4.93230519, 4.93285136,\n",
       "       4.93326278, 4.93381596, 4.93425627, 4.93479209, 4.93525171,\n",
       "       4.93578234, 4.93628979, 4.93682237, 4.93733211, 4.93785334,\n",
       "       4.93840051, 4.93888068, 4.93940806, 4.93987036, 4.94045548,\n",
       "       4.94094558, 4.94150763, 4.94200358, 4.94248343, 4.94305611])"
      ]
     },
     "execution_count": 50,
     "metadata": {},
     "output_type": "execute_result"
    }
   ],
   "source": [
    "val_mean"
   ]
  },
  {
   "cell_type": "code",
   "execution_count": 90,
   "id": "a307a824",
   "metadata": {},
   "outputs": [
    {
     "name": "stdout",
     "output_type": "stream",
     "text": [
      "25\n"
     ]
    },
    {
     "data": {
      "image/png": "[encoded data removed]",
      "text/plain": [
       "<Figure size 640x480 with 1 Axes>"
      ]
     },
     "metadata": {},
     "output_type": "display_data"
    }
   ],
   "source": [
    "plt.plot(x, train_mean, color=\"red\", label='VAE: Training loss')\n",
    "\n",
    "plt.fill_between(x, train_mean - train_std, train_mean + train_std, color='red', alpha=0.5)\n",
    "plt.fill_between(x, train_min, train_max, color='salmon', alpha=0.5)\n",
    "\n",
    "\n",
    "es_kickin = early_stopping_epoch(val_mean)\n",
    "print(es_kickin)\n",
    "plt.axvline(x=es_kickin, color='blue', linestyle='dashed')\n",
    "\n",
    "plt.plot(x, val_mean, color=\"blue\", label='VAE: Validation loss')\n",
    "\n",
    "plt.fill_between(x, val_mean - val_std, val_mean + val_std, color='blue', alpha=0.5)\n",
    "plt.fill_between(x, val_min, val_max, color='lightblue', alpha=0.5)\n",
    "\n",
    "plt.xlabel(\"Epochs\")\n",
    "plt.ylabel(\"Loss\")\n",
    "plt.title(\"PCA 697 Components Loss Graph\")\n",
    "\n",
    "plt.legend()\n",
    "plt.show()"
   ]
  },
  {
   "cell_type": "code",
   "execution_count": 21,
   "id": "925e30dc",
   "metadata": {},
   "outputs": [],
   "source": [
    "np.save(\"./results/vae697/beta0_h_dim[2091, 1394]_val_mean.npy\",val_mean)\n",
    "np.save(\"./results/vae697/beta0_h_dim[2091, 1394]_val_std.npy\", val_std)\n",
    "np.save(\"./results/vae697/beta0_h_dim[2091, 1394]_val_min.npy\", val_min)\n",
    "np.save(\"./results/vae697/beta0_h_dim[2091, 1394]_val_max.npy\", val_max)"
   ]
  }
 ],
 "metadata": {
  "interpreter": {
   "hash": "b34dc2307e58e1a1d1e57cf7ef01b077b034c069b8a201720687e01a8602b64b"
  },
  "kernelspec": {
   "display_name": "bio",
   "language": "python",
   "name": "bio"
  },
  "language_info": {
   "codemirror_mode": {
    "name": "ipython",
    "version": 3
   },
   "file_extension": ".py",
   "mimetype": "text/x-python",
   "name": "python",
   "nbconvert_exporter": "python",
   "pygments_lexer": "ipython3",
   "version": "3.8.12"
  }
 },
 "nbformat": 4,
 "nbformat_minor": 5
}
