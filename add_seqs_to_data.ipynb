{
 "cells": [
  {
   "cell_type": "markdown",
   "id": "motivated-committee",
   "metadata": {},
   "source": [
    "## Play around with the data"
   ]
  },
  {
   "cell_type": "code",
   "execution_count": 27,
   "id": "romantic-sending",
   "metadata": {},
   "outputs": [],
   "source": [
    "# Code from Teams:\n",
    "\n",
    "import pandas as pd\n",
    "import numpy as np\n",
    "import pickle as pkl\n",
    "\n",
    "label, rev_index, features = pkl.load(open('./data/feature_index_all.pkl','rb'))\n",
    "Lindel_training = pd.read_csv(\"./data/Lindel_training.txt\", sep='\\t')\n",
    "Lindel_test = pd.read_csv(\"./data/Lindel_test.txt\", sep='\\t')\n",
    "\n",
    "algient = pd.read_csv(\"./data/algient_NHEJ_guides_final.txt\", sep='\\t')\n",
    "\n",
    "# # column descriptions\n",
    "# Lindel_training.iloc[0] # guide sequences\n",
    "# Lindel_training.iloc[1:3034] # 3033 binary features [2649 MH binary features + 384 one hot encoded features]\n",
    "# Lindel_training.iloc[3034:] # 557 observed outcome frequencies"
   ]
  },
  {
   "cell_type": "code",
   "execution_count": 17,
   "outputs": [
    {
     "name": "stdout",
     "output_type": "stream",
     "text": [
      "Done\n"
     ]
    }
   ],
   "source": [
    "# For training set\n",
    "\n",
    "# Need to find the entire 65bp sequence around the guide sequences in the dataset.\n",
    "\n",
    "seqs = algient.iloc[:, 0].to_numpy().astype(str)\n",
    "guides_train = Lindel_training.iloc[:, 0].to_numpy().astype(str)\n",
    "\n",
    "full_sequence_column = []\n",
    "\n",
    "for gi, guide in enumerate(guides_train):\n",
    "    for si, seq in enumerate(seqs):\n",
    "\n",
    "        if guide in seq:\n",
    "            # Found a match\n",
    "\n",
    "            # Find the second occurrence of the guide sequence\n",
    "            second_occurrence = seq.index(guide, seq.index(guide) + 1)\n",
    "\n",
    "            # Get 65bp sequence around cleavage site as follows 30bp | 35bp\n",
    "            start = second_occurrence - 13\n",
    "            end = start + 65\n",
    "\n",
    "\n",
    "            seq_65bp = seq[start:end]\n",
    "            full_sequence_column.append(seq_65bp)\n",
    "\n",
    "            # Only use the first hit\n",
    "            break\n",
    "\n",
    "print(\"Done\", len(full_sequence_column))\n",
    "Lindel_training.insert(1, \"65bp\", full_sequence_column, True)\n",
    "Lindel_training.to_csv(\"./data/Lindel_training_65bp.csv\")\n"
   ],
   "metadata": {
    "collapsed": false,
    "pycharm": {
     "name": "#%%\n"
    }
   }
  },
  {
   "cell_type": "code",
   "execution_count": 28,
   "id": "considerable-memorial",
   "metadata": {},
   "outputs": [
    {
     "name": "stdout",
     "output_type": "stream",
     "text": [
      "Done 439\n"
     ]
    }
   ],
   "source": [
    "# For test set\n",
    "\n",
    "# Need to find the entire 65bp sequence around the guide sequences in the dataset.\n",
    "\n",
    "seqs = algient.iloc[:, 0].to_numpy().astype(str)\n",
    "guides_test = Lindel_test.iloc[:, 0].to_numpy().astype(str)\n",
    "\n",
    "full_sequence_column = []\n",
    "\n",
    "for gi, guide in enumerate(guides_test):\n",
    "    for si, seq in enumerate(seqs):\n",
    "\n",
    "        if guide in seq:\n",
    "            # Found a match\n",
    "\n",
    "            # Find the second occurrence of the guide sequence\n",
    "            second_occurrence = seq.index(guide, seq.index(guide) + 1)\n",
    "\n",
    "            # Get 65bp sequence around cleavage site as follows 30bp | 35bp\n",
    "            start = second_occurrence - 13\n",
    "            end = start + 65\n",
    "\n",
    "\n",
    "            seq_65bp = seq[start:end]\n",
    "            full_sequence_column.append(seq_65bp)\n",
    "\n",
    "            # Only use the first hit\n",
    "            break\n",
    "\n",
    "print(\"Done\", len(full_sequence_column))\n",
    "Lindel_test.insert(1, \"65bp\", full_sequence_column, True)\n",
    "Lindel_test.to_csv(\"./data/Lindel_test_65bp.csv\")\n"
   ]
  },
  {
   "cell_type": "code",
   "execution_count": 29,
   "outputs": [
    {
     "data": {
      "text/plain": "     GTTCAGCCGCATACTACGCT                                               65bp  \\\n0    CCGCAGCCTATCCCGCTTTG  TAACGTTATCAACCCGCAGCCTATCCCGCTTTGCGGTTGAACTGCG...   \n1    TTCCGGCGGCTTAATATGGT  TAACGTTATCAACTTCCGGCGGCTTAATATGGTCGGTTGAACTGCG...   \n2    ATAGGCTAACGCGGTCGCCT  TAACGTTATCAACATAGGCTAACGCGGTCGCCTCGGTTGAACTGCG...   \n3    AACCCGCATCCTTCGACTCA  TAACGTTATCAACAACCCGCATCCTTCGACTCACGGTTGAACTGCG...   \n4    CGCCATGGATACGAACTGCG  TAACGTTATCAACCGCCATGGATACGAACTGCGCGGTTGAACTGCG...   \n..                    ...                                                ...   \n434  CTGTGAGTTAACTTCGGCAA  TAACGTTATCAACCTGTGAGTTAACTTCGGCAACGGTTGAACTGCG...   \n435  CGACCTATAGCGGCCCGGAC  TAACGTTATCAACCGACCTATAGCGGCCCGGACCGGTTGAACTGCG...   \n436  CCTAAGCGCATACACGGTCC  TAACGTTATCAACCCTAAGCGCATACACGGTCCCGGTTGAACTGCG...   \n437  CGCGAGTCGGTAGACGGCAC  TAACGTTATCAACCGCGAGTCGGTAGACGGCACCGGTTGAACTGCG...   \n438  CGAGGCGAGTGGGATTGATA  TAACGTTATCAACCGAGGCGAGTGGGATTGATACGGTTGAACTGCG...   \n\n     0.0  0.0.1  0.0.2  0.0.3  0.0.4  1.0  0.0.5  0.0.6  ...  0.0.3110  \\\n0    0.0    0.0    0.0    0.0    0.0  0.0    1.0    0.0  ...       0.0   \n1    0.0    0.0    0.0    0.0    0.0  0.0    1.0    0.0  ...       0.0   \n2    0.0    0.0    0.0    0.0    0.0  1.0    0.0    0.0  ...       0.0   \n3    0.0    0.0    0.0    0.0    0.0  1.0    0.0    0.0  ...       0.0   \n4    0.0    0.0    0.0    0.0    0.0  0.0    1.0    0.0  ...       0.0   \n..   ...    ...    ...    ...    ...  ...    ...    ...  ...       ...   \n434  0.0    0.0    0.0    0.0    0.0  1.0    0.0    0.0  ...       0.0   \n435  0.0    0.0    0.0    0.0    0.0  1.0    0.0    0.0  ...       0.0   \n436  0.0    0.0    0.0    0.0    0.0  1.0    0.0    0.0  ...       0.0   \n437  0.0    0.0    0.0    0.0    0.0  1.0    0.0    0.0  ...       0.0   \n438  0.0    0.0    0.0    0.0    0.0  0.0    0.0    0.0  ...       0.0   \n\n     0.0.3111  0.0.3112  0.0.3113  0.0.3114  0.0.3115  0.005263157894736842.9  \\\n0         0.0  0.010274  0.000000       0.0       0.0                0.010274   \n1         0.0  0.000000  0.000000       0.0       0.0                0.000000   \n2         0.0  0.000000  0.000000       0.0       0.0                0.000000   \n3         0.0  0.000000  0.000000       0.0       0.0                0.000000   \n4         0.0  0.003580  0.000000       0.0       0.0                0.000000   \n..        ...       ...       ...       ...       ...                     ...   \n434       0.0  0.000000  0.000000       0.0       0.0                0.000000   \n435       0.0  0.000000  0.055556       0.0       0.0                0.000000   \n436       0.0  0.000000  0.000000       0.0       0.0                0.000000   \n437       0.0  0.000000  0.000000       0.0       0.0                0.000000   \n438       0.0  0.009434  0.000000       0.0       0.0                0.000000   \n\n     0.005263157894736842.10  0.0.3116  0.05263157894736842.1  \n0                        0.0       0.0               0.071918  \n1                        0.0       0.0               0.021505  \n2                        0.0       0.0               0.000000  \n3                        0.0       0.0               0.097222  \n4                        0.0       0.0               0.008353  \n..                       ...       ...                    ...  \n434                      0.0       0.0               0.142857  \n435                      0.0       0.0               0.000000  \n436                      0.0       0.0               0.000000  \n437                      0.0       0.0               0.034014  \n438                      0.0       0.0               0.000000  \n\n[439 rows x 3592 columns]",
      "text/html": "<div>\n<style scoped>\n    .dataframe tbody tr th:only-of-type {\n        vertical-align: middle;\n    }\n\n    .dataframe tbody tr th {\n        vertical-align: top;\n    }\n\n    .dataframe thead th {\n        text-align: right;\n    }\n</style>\n<table border=\"1\" class=\"dataframe\">\n  <thead>\n    <tr style=\"text-align: right;\">\n      <th></th>\n      <th>GTTCAGCCGCATACTACGCT</th>\n      <th>65bp</th>\n      <th>0.0</th>\n      <th>0.0.1</th>\n      <th>0.0.2</th>\n      <th>0.0.3</th>\n      <th>0.0.4</th>\n      <th>1.0</th>\n      <th>0.0.5</th>\n      <th>0.0.6</th>\n      <th>...</th>\n      <th>0.0.3110</th>\n      <th>0.0.3111</th>\n      <th>0.0.3112</th>\n      <th>0.0.3113</th>\n      <th>0.0.3114</th>\n      <th>0.0.3115</th>\n      <th>0.005263157894736842.9</th>\n      <th>0.005263157894736842.10</th>\n      <th>0.0.3116</th>\n      <th>0.05263157894736842.1</th>\n    </tr>\n  </thead>\n  <tbody>\n    <tr>\n      <th>0</th>\n      <td>CCGCAGCCTATCCCGCTTTG</td>\n      <td>TAACGTTATCAACCCGCAGCCTATCCCGCTTTGCGGTTGAACTGCG...</td>\n      <td>0.0</td>\n      <td>0.0</td>\n      <td>0.0</td>\n      <td>0.0</td>\n      <td>0.0</td>\n      <td>0.0</td>\n      <td>1.0</td>\n      <td>0.0</td>\n      <td>...</td>\n      <td>0.0</td>\n      <td>0.0</td>\n      <td>0.010274</td>\n      <td>0.000000</td>\n      <td>0.0</td>\n      <td>0.0</td>\n      <td>0.010274</td>\n      <td>0.0</td>\n      <td>0.0</td>\n      <td>0.071918</td>\n    </tr>\n    <tr>\n      <th>1</th>\n      <td>TTCCGGCGGCTTAATATGGT</td>\n      <td>TAACGTTATCAACTTCCGGCGGCTTAATATGGTCGGTTGAACTGCG...</td>\n      <td>0.0</td>\n      <td>0.0</td>\n      <td>0.0</td>\n      <td>0.0</td>\n      <td>0.0</td>\n      <td>0.0</td>\n      <td>1.0</td>\n      <td>0.0</td>\n      <td>...</td>\n      <td>0.0</td>\n      <td>0.0</td>\n      <td>0.000000</td>\n      <td>0.000000</td>\n      <td>0.0</td>\n      <td>0.0</td>\n      <td>0.000000</td>\n      <td>0.0</td>\n      <td>0.0</td>\n      <td>0.021505</td>\n    </tr>\n    <tr>\n      <th>2</th>\n      <td>ATAGGCTAACGCGGTCGCCT</td>\n      <td>TAACGTTATCAACATAGGCTAACGCGGTCGCCTCGGTTGAACTGCG...</td>\n      <td>0.0</td>\n      <td>0.0</td>\n      <td>0.0</td>\n      <td>0.0</td>\n      <td>0.0</td>\n      <td>1.0</td>\n      <td>0.0</td>\n      <td>0.0</td>\n      <td>...</td>\n      <td>0.0</td>\n      <td>0.0</td>\n      <td>0.000000</td>\n      <td>0.000000</td>\n      <td>0.0</td>\n      <td>0.0</td>\n      <td>0.000000</td>\n      <td>0.0</td>\n      <td>0.0</td>\n      <td>0.000000</td>\n    </tr>\n    <tr>\n      <th>3</th>\n      <td>AACCCGCATCCTTCGACTCA</td>\n      <td>TAACGTTATCAACAACCCGCATCCTTCGACTCACGGTTGAACTGCG...</td>\n      <td>0.0</td>\n      <td>0.0</td>\n      <td>0.0</td>\n      <td>0.0</td>\n      <td>0.0</td>\n      <td>1.0</td>\n      <td>0.0</td>\n      <td>0.0</td>\n      <td>...</td>\n      <td>0.0</td>\n      <td>0.0</td>\n      <td>0.000000</td>\n      <td>0.000000</td>\n      <td>0.0</td>\n      <td>0.0</td>\n      <td>0.000000</td>\n      <td>0.0</td>\n      <td>0.0</td>\n      <td>0.097222</td>\n    </tr>\n    <tr>\n      <th>4</th>\n      <td>CGCCATGGATACGAACTGCG</td>\n      <td>TAACGTTATCAACCGCCATGGATACGAACTGCGCGGTTGAACTGCG...</td>\n      <td>0.0</td>\n      <td>0.0</td>\n      <td>0.0</td>\n      <td>0.0</td>\n      <td>0.0</td>\n      <td>0.0</td>\n      <td>1.0</td>\n      <td>0.0</td>\n      <td>...</td>\n      <td>0.0</td>\n      <td>0.0</td>\n      <td>0.003580</td>\n      <td>0.000000</td>\n      <td>0.0</td>\n      <td>0.0</td>\n      <td>0.000000</td>\n      <td>0.0</td>\n      <td>0.0</td>\n      <td>0.008353</td>\n    </tr>\n    <tr>\n      <th>...</th>\n      <td>...</td>\n      <td>...</td>\n      <td>...</td>\n      <td>...</td>\n      <td>...</td>\n      <td>...</td>\n      <td>...</td>\n      <td>...</td>\n      <td>...</td>\n      <td>...</td>\n      <td>...</td>\n      <td>...</td>\n      <td>...</td>\n      <td>...</td>\n      <td>...</td>\n      <td>...</td>\n      <td>...</td>\n      <td>...</td>\n      <td>...</td>\n      <td>...</td>\n      <td>...</td>\n    </tr>\n    <tr>\n      <th>434</th>\n      <td>CTGTGAGTTAACTTCGGCAA</td>\n      <td>TAACGTTATCAACCTGTGAGTTAACTTCGGCAACGGTTGAACTGCG...</td>\n      <td>0.0</td>\n      <td>0.0</td>\n      <td>0.0</td>\n      <td>0.0</td>\n      <td>0.0</td>\n      <td>1.0</td>\n      <td>0.0</td>\n      <td>0.0</td>\n      <td>...</td>\n      <td>0.0</td>\n      <td>0.0</td>\n      <td>0.000000</td>\n      <td>0.000000</td>\n      <td>0.0</td>\n      <td>0.0</td>\n      <td>0.000000</td>\n      <td>0.0</td>\n      <td>0.0</td>\n      <td>0.142857</td>\n    </tr>\n    <tr>\n      <th>435</th>\n      <td>CGACCTATAGCGGCCCGGAC</td>\n      <td>TAACGTTATCAACCGACCTATAGCGGCCCGGACCGGTTGAACTGCG...</td>\n      <td>0.0</td>\n      <td>0.0</td>\n      <td>0.0</td>\n      <td>0.0</td>\n      <td>0.0</td>\n      <td>1.0</td>\n      <td>0.0</td>\n      <td>0.0</td>\n      <td>...</td>\n      <td>0.0</td>\n      <td>0.0</td>\n      <td>0.000000</td>\n      <td>0.055556</td>\n      <td>0.0</td>\n      <td>0.0</td>\n      <td>0.000000</td>\n      <td>0.0</td>\n      <td>0.0</td>\n      <td>0.000000</td>\n    </tr>\n    <tr>\n      <th>436</th>\n      <td>CCTAAGCGCATACACGGTCC</td>\n      <td>TAACGTTATCAACCCTAAGCGCATACACGGTCCCGGTTGAACTGCG...</td>\n      <td>0.0</td>\n      <td>0.0</td>\n      <td>0.0</td>\n      <td>0.0</td>\n      <td>0.0</td>\n      <td>1.0</td>\n      <td>0.0</td>\n      <td>0.0</td>\n      <td>...</td>\n      <td>0.0</td>\n      <td>0.0</td>\n      <td>0.000000</td>\n      <td>0.000000</td>\n      <td>0.0</td>\n      <td>0.0</td>\n      <td>0.000000</td>\n      <td>0.0</td>\n      <td>0.0</td>\n      <td>0.000000</td>\n    </tr>\n    <tr>\n      <th>437</th>\n      <td>CGCGAGTCGGTAGACGGCAC</td>\n      <td>TAACGTTATCAACCGCGAGTCGGTAGACGGCACCGGTTGAACTGCG...</td>\n      <td>0.0</td>\n      <td>0.0</td>\n      <td>0.0</td>\n      <td>0.0</td>\n      <td>0.0</td>\n      <td>1.0</td>\n      <td>0.0</td>\n      <td>0.0</td>\n      <td>...</td>\n      <td>0.0</td>\n      <td>0.0</td>\n      <td>0.000000</td>\n      <td>0.000000</td>\n      <td>0.0</td>\n      <td>0.0</td>\n      <td>0.000000</td>\n      <td>0.0</td>\n      <td>0.0</td>\n      <td>0.034014</td>\n    </tr>\n    <tr>\n      <th>438</th>\n      <td>CGAGGCGAGTGGGATTGATA</td>\n      <td>TAACGTTATCAACCGAGGCGAGTGGGATTGATACGGTTGAACTGCG...</td>\n      <td>0.0</td>\n      <td>0.0</td>\n      <td>0.0</td>\n      <td>0.0</td>\n      <td>0.0</td>\n      <td>0.0</td>\n      <td>0.0</td>\n      <td>0.0</td>\n      <td>...</td>\n      <td>0.0</td>\n      <td>0.0</td>\n      <td>0.009434</td>\n      <td>0.000000</td>\n      <td>0.0</td>\n      <td>0.0</td>\n      <td>0.000000</td>\n      <td>0.0</td>\n      <td>0.0</td>\n      <td>0.000000</td>\n    </tr>\n  </tbody>\n</table>\n<p>439 rows × 3592 columns</p>\n</div>"
     },
     "execution_count": 29,
     "metadata": {},
     "output_type": "execute_result"
    }
   ],
   "source": [
    "Lindel_test"
   ],
   "metadata": {
    "collapsed": false,
    "pycharm": {
     "name": "#%%\n"
    }
   }
  },
  {
   "cell_type": "markdown",
   "id": "662d8b9f",
   "metadata": {},
   "source": []
  },
  {
   "cell_type": "code",
   "execution_count": 43,
   "id": "outdoor-steel",
   "metadata": {
    "scrolled": true
   },
   "outputs": [
    {
     "name": "stdout",
     "output_type": "stream",
     "text": [
      "Number of labels :  557\n",
      "Number of rev_index :  557\n",
      "Number of features :  2649\n"
     ]
    }
   ],
   "source": [
    "print(\"Number of labels : \", len(label.keys()))\n",
    "print(\"Number of rev_index : \", len(rev_index.keys()))\n",
    "print(\"Number of features : \", len(features.keys()))"
   ]
  },
  {
   "cell_type": "code",
   "execution_count": 31,
   "id": "domestic-equivalent",
   "metadata": {
    "pycharm": {
     "name": "#%%\n"
    }
   },
   "outputs": [
    {
     "data": {
      "text/plain": "      ATAAGCTTACGAGTCTAATC  0.0  0.0.1  0.0.2  0.0.3  0.0.4  0.0.5  0.0.6  \\\n0     GCTCCTCGATAGGTGAGTCT  0.0    0.0    0.0    0.0    0.0    1.0    0.0   \n1     ACATCTAGTGACTCGCATCA  0.0    0.0    0.0    0.0    0.0    1.0    0.0   \n2     AACCAGCGCACCCTGTCGTA  0.0    0.0    0.0    0.0    0.0    1.0    0.0   \n3     AAACGAGCAACGCATTATAA  0.0    0.0    0.0    0.0    0.0    1.0    0.0   \n4     GCCTGCGTACAAACACTGGT  0.0    0.0    0.0    0.0    0.0    0.0    1.0   \n...                    ...  ...    ...    ...    ...    ...    ...    ...   \n4732  AAGGCCAGAGGAAATACCGA  0.0    0.0    0.0    0.0    0.0    1.0    0.0   \n4733  GGCCCATACCATTGGAATGA  0.0    0.0    0.0    0.0    0.0    0.0    1.0   \n4734  GAAGCTGAAGTCCTTTCCAG  0.0    0.0    0.0    0.0    0.0    1.0    0.0   \n4735  GCATCGGCCTGAAAGCAGTG  0.0    0.0    0.0    0.0    0.0    1.0    0.0   \n4736  AGTGGGACTACCTCTGGTAG  0.0    0.0    0.0    0.0    0.0    0.0    1.0   \n\n      0.0.7  0.0.8  ...  0.0.3112  0.0.3113  0.0.3114  0.0.3115  0.0.3116  \\\n0       0.0    0.0  ...       0.0       0.0       0.0       0.0       0.0   \n1       0.0    0.0  ...       0.0       0.0       0.0       0.0       0.0   \n2       0.0    0.0  ...       0.0       0.0       0.0       0.0       0.0   \n3       0.0    0.0  ...       0.0       0.0       0.0       0.0       0.0   \n4       0.0    0.0  ...       0.0       0.0       0.0       0.0       0.0   \n...     ...    ...  ...       ...       ...       ...       ...       ...   \n4732    0.0    0.0  ...       NaN       NaN       NaN       NaN       NaN   \n4733    0.0    0.0  ...       NaN       NaN       NaN       NaN       NaN   \n4734    0.0    0.0  ...       NaN       NaN       NaN       NaN       NaN   \n4735    0.0    0.0  ...       NaN       NaN       NaN       NaN       NaN   \n4736    0.0    0.0  ...       NaN       NaN       NaN       NaN       NaN   \n\n      0.0.3117  0.0.3118  0.0.3119  0.0.3120  0.09606986899563319  \n0          0.0       0.0       0.0       0.0             0.055556  \n1          0.0       0.0       0.0       0.0             0.000000  \n2          0.0       0.0       0.0       0.0             0.067669  \n3          0.0       0.0       0.0       0.0             0.064885  \n4          0.0       0.0       0.0       0.0             0.016393  \n...        ...       ...       ...       ...                  ...  \n4732       NaN       NaN       NaN       NaN                  NaN  \n4733       NaN       NaN       NaN       NaN                  NaN  \n4734       NaN       NaN       NaN       NaN                  NaN  \n4735       NaN       NaN       NaN       NaN                  NaN  \n4736       NaN       NaN       NaN       NaN                  NaN  \n\n[4737 rows x 3591 columns]",
      "text/html": "<div>\n<style scoped>\n    .dataframe tbody tr th:only-of-type {\n        vertical-align: middle;\n    }\n\n    .dataframe tbody tr th {\n        vertical-align: top;\n    }\n\n    .dataframe thead th {\n        text-align: right;\n    }\n</style>\n<table border=\"1\" class=\"dataframe\">\n  <thead>\n    <tr style=\"text-align: right;\">\n      <th></th>\n      <th>ATAAGCTTACGAGTCTAATC</th>\n      <th>0.0</th>\n      <th>0.0.1</th>\n      <th>0.0.2</th>\n      <th>0.0.3</th>\n      <th>0.0.4</th>\n      <th>0.0.5</th>\n      <th>0.0.6</th>\n      <th>0.0.7</th>\n      <th>0.0.8</th>\n      <th>...</th>\n      <th>0.0.3112</th>\n      <th>0.0.3113</th>\n      <th>0.0.3114</th>\n      <th>0.0.3115</th>\n      <th>0.0.3116</th>\n      <th>0.0.3117</th>\n      <th>0.0.3118</th>\n      <th>0.0.3119</th>\n      <th>0.0.3120</th>\n      <th>0.09606986899563319</th>\n    </tr>\n  </thead>\n  <tbody>\n    <tr>\n      <th>0</th>\n      <td>GCTCCTCGATAGGTGAGTCT</td>\n      <td>0.0</td>\n      <td>0.0</td>\n      <td>0.0</td>\n      <td>0.0</td>\n      <td>0.0</td>\n      <td>1.0</td>\n      <td>0.0</td>\n      <td>0.0</td>\n      <td>0.0</td>\n      <td>...</td>\n      <td>0.0</td>\n      <td>0.0</td>\n      <td>0.0</td>\n      <td>0.0</td>\n      <td>0.0</td>\n      <td>0.0</td>\n      <td>0.0</td>\n      <td>0.0</td>\n      <td>0.0</td>\n      <td>0.055556</td>\n    </tr>\n    <tr>\n      <th>1</th>\n      <td>ACATCTAGTGACTCGCATCA</td>\n      <td>0.0</td>\n      <td>0.0</td>\n      <td>0.0</td>\n      <td>0.0</td>\n      <td>0.0</td>\n      <td>1.0</td>\n      <td>0.0</td>\n      <td>0.0</td>\n      <td>0.0</td>\n      <td>...</td>\n      <td>0.0</td>\n      <td>0.0</td>\n      <td>0.0</td>\n      <td>0.0</td>\n      <td>0.0</td>\n      <td>0.0</td>\n      <td>0.0</td>\n      <td>0.0</td>\n      <td>0.0</td>\n      <td>0.000000</td>\n    </tr>\n    <tr>\n      <th>2</th>\n      <td>AACCAGCGCACCCTGTCGTA</td>\n      <td>0.0</td>\n      <td>0.0</td>\n      <td>0.0</td>\n      <td>0.0</td>\n      <td>0.0</td>\n      <td>1.0</td>\n      <td>0.0</td>\n      <td>0.0</td>\n      <td>0.0</td>\n      <td>...</td>\n      <td>0.0</td>\n      <td>0.0</td>\n      <td>0.0</td>\n      <td>0.0</td>\n      <td>0.0</td>\n      <td>0.0</td>\n      <td>0.0</td>\n      <td>0.0</td>\n      <td>0.0</td>\n      <td>0.067669</td>\n    </tr>\n    <tr>\n      <th>3</th>\n      <td>AAACGAGCAACGCATTATAA</td>\n      <td>0.0</td>\n      <td>0.0</td>\n      <td>0.0</td>\n      <td>0.0</td>\n      <td>0.0</td>\n      <td>1.0</td>\n      <td>0.0</td>\n      <td>0.0</td>\n      <td>0.0</td>\n      <td>...</td>\n      <td>0.0</td>\n      <td>0.0</td>\n      <td>0.0</td>\n      <td>0.0</td>\n      <td>0.0</td>\n      <td>0.0</td>\n      <td>0.0</td>\n      <td>0.0</td>\n      <td>0.0</td>\n      <td>0.064885</td>\n    </tr>\n    <tr>\n      <th>4</th>\n      <td>GCCTGCGTACAAACACTGGT</td>\n      <td>0.0</td>\n      <td>0.0</td>\n      <td>0.0</td>\n      <td>0.0</td>\n      <td>0.0</td>\n      <td>0.0</td>\n      <td>1.0</td>\n      <td>0.0</td>\n      <td>0.0</td>\n      <td>...</td>\n      <td>0.0</td>\n      <td>0.0</td>\n      <td>0.0</td>\n      <td>0.0</td>\n      <td>0.0</td>\n      <td>0.0</td>\n      <td>0.0</td>\n      <td>0.0</td>\n      <td>0.0</td>\n      <td>0.016393</td>\n    </tr>\n    <tr>\n      <th>...</th>\n      <td>...</td>\n      <td>...</td>\n      <td>...</td>\n      <td>...</td>\n      <td>...</td>\n      <td>...</td>\n      <td>...</td>\n      <td>...</td>\n      <td>...</td>\n      <td>...</td>\n      <td>...</td>\n      <td>...</td>\n      <td>...</td>\n      <td>...</td>\n      <td>...</td>\n      <td>...</td>\n      <td>...</td>\n      <td>...</td>\n      <td>...</td>\n      <td>...</td>\n      <td>...</td>\n    </tr>\n    <tr>\n      <th>4732</th>\n      <td>AAGGCCAGAGGAAATACCGA</td>\n      <td>0.0</td>\n      <td>0.0</td>\n      <td>0.0</td>\n      <td>0.0</td>\n      <td>0.0</td>\n      <td>1.0</td>\n      <td>0.0</td>\n      <td>0.0</td>\n      <td>0.0</td>\n      <td>...</td>\n      <td>NaN</td>\n      <td>NaN</td>\n      <td>NaN</td>\n      <td>NaN</td>\n      <td>NaN</td>\n      <td>NaN</td>\n      <td>NaN</td>\n      <td>NaN</td>\n      <td>NaN</td>\n      <td>NaN</td>\n    </tr>\n    <tr>\n      <th>4733</th>\n      <td>GGCCCATACCATTGGAATGA</td>\n      <td>0.0</td>\n      <td>0.0</td>\n      <td>0.0</td>\n      <td>0.0</td>\n      <td>0.0</td>\n      <td>0.0</td>\n      <td>1.0</td>\n      <td>0.0</td>\n      <td>0.0</td>\n      <td>...</td>\n      <td>NaN</td>\n      <td>NaN</td>\n      <td>NaN</td>\n      <td>NaN</td>\n      <td>NaN</td>\n      <td>NaN</td>\n      <td>NaN</td>\n      <td>NaN</td>\n      <td>NaN</td>\n      <td>NaN</td>\n    </tr>\n    <tr>\n      <th>4734</th>\n      <td>GAAGCTGAAGTCCTTTCCAG</td>\n      <td>0.0</td>\n      <td>0.0</td>\n      <td>0.0</td>\n      <td>0.0</td>\n      <td>0.0</td>\n      <td>1.0</td>\n      <td>0.0</td>\n      <td>0.0</td>\n      <td>0.0</td>\n      <td>...</td>\n      <td>NaN</td>\n      <td>NaN</td>\n      <td>NaN</td>\n      <td>NaN</td>\n      <td>NaN</td>\n      <td>NaN</td>\n      <td>NaN</td>\n      <td>NaN</td>\n      <td>NaN</td>\n      <td>NaN</td>\n    </tr>\n    <tr>\n      <th>4735</th>\n      <td>GCATCGGCCTGAAAGCAGTG</td>\n      <td>0.0</td>\n      <td>0.0</td>\n      <td>0.0</td>\n      <td>0.0</td>\n      <td>0.0</td>\n      <td>1.0</td>\n      <td>0.0</td>\n      <td>0.0</td>\n      <td>0.0</td>\n      <td>...</td>\n      <td>NaN</td>\n      <td>NaN</td>\n      <td>NaN</td>\n      <td>NaN</td>\n      <td>NaN</td>\n      <td>NaN</td>\n      <td>NaN</td>\n      <td>NaN</td>\n      <td>NaN</td>\n      <td>NaN</td>\n    </tr>\n    <tr>\n      <th>4736</th>\n      <td>AGTGGGACTACCTCTGGTAG</td>\n      <td>0.0</td>\n      <td>0.0</td>\n      <td>0.0</td>\n      <td>0.0</td>\n      <td>0.0</td>\n      <td>0.0</td>\n      <td>1.0</td>\n      <td>0.0</td>\n      <td>0.0</td>\n      <td>...</td>\n      <td>NaN</td>\n      <td>NaN</td>\n      <td>NaN</td>\n      <td>NaN</td>\n      <td>NaN</td>\n      <td>NaN</td>\n      <td>NaN</td>\n      <td>NaN</td>\n      <td>NaN</td>\n      <td>NaN</td>\n    </tr>\n  </tbody>\n</table>\n<p>4737 rows × 3591 columns</p>\n</div>"
     },
     "execution_count": 31,
     "metadata": {},
     "output_type": "execute_result"
    }
   ],
   "source": [
    "forecast = pd.read_csv(\"./data/Lindel_ForeCasT_testset_4000+samples.txt\", sep='\\t')\n",
    "forecast"
   ]
  },
  {
   "cell_type": "code",
   "execution_count": 33,
   "outputs": [
    {
     "name": "stdout",
     "output_type": "stream",
     "text": [
      "Done 477\n"
     ]
    },
    {
     "ename": "ValueError",
     "evalue": "Length of values (477) does not match length of index (4737)",
     "output_type": "error",
     "traceback": [
      "\u001B[0;31m---------------------------------------------------------------------------\u001B[0m",
      "\u001B[0;31mValueError\u001B[0m                                Traceback (most recent call last)",
      "Input \u001B[0;32mIn [33]\u001B[0m, in \u001B[0;36m<cell line: 34>\u001B[0;34m()\u001B[0m\n\u001B[1;32m     31\u001B[0m             \u001B[38;5;28;01mbreak\u001B[39;00m\n\u001B[1;32m     33\u001B[0m \u001B[38;5;28mprint\u001B[39m(\u001B[38;5;124m\"\u001B[39m\u001B[38;5;124mDone\u001B[39m\u001B[38;5;124m\"\u001B[39m, \u001B[38;5;28mlen\u001B[39m(full_sequence_column))\n\u001B[0;32m---> 34\u001B[0m \u001B[43mforecast\u001B[49m\u001B[38;5;241;43m.\u001B[39;49m\u001B[43minsert\u001B[49m\u001B[43m(\u001B[49m\u001B[38;5;241;43m1\u001B[39;49m\u001B[43m,\u001B[49m\u001B[43m \u001B[49m\u001B[38;5;124;43m\"\u001B[39;49m\u001B[38;5;124;43m65bp\u001B[39;49m\u001B[38;5;124;43m\"\u001B[39;49m\u001B[43m,\u001B[49m\u001B[43m \u001B[49m\u001B[43mfull_sequence_column\u001B[49m\u001B[43m,\u001B[49m\u001B[43m \u001B[49m\u001B[38;5;28;43;01mTrue\u001B[39;49;00m\u001B[43m)\u001B[49m\n\u001B[1;32m     35\u001B[0m forecast\u001B[38;5;241m.\u001B[39mto_csv(\u001B[38;5;124m\"\u001B[39m\u001B[38;5;124m./data/Lindel_ForeCasT_testset_4000+samples_65bp.csv\u001B[39m\u001B[38;5;124m\"\u001B[39m)\n",
      "File \u001B[0;32m~/miniconda3/envs/bio/lib/python3.8/site-packages/pandas/core/frame.py:4438\u001B[0m, in \u001B[0;36mDataFrame.insert\u001B[0;34m(self, loc, column, value, allow_duplicates)\u001B[0m\n\u001B[1;32m   4435\u001B[0m \u001B[38;5;28;01mif\u001B[39;00m \u001B[38;5;129;01mnot\u001B[39;00m \u001B[38;5;28misinstance\u001B[39m(loc, \u001B[38;5;28mint\u001B[39m):\n\u001B[1;32m   4436\u001B[0m     \u001B[38;5;28;01mraise\u001B[39;00m \u001B[38;5;167;01mTypeError\u001B[39;00m(\u001B[38;5;124m\"\u001B[39m\u001B[38;5;124mloc must be int\u001B[39m\u001B[38;5;124m\"\u001B[39m)\n\u001B[0;32m-> 4438\u001B[0m value \u001B[38;5;241m=\u001B[39m \u001B[38;5;28;43mself\u001B[39;49m\u001B[38;5;241;43m.\u001B[39;49m\u001B[43m_sanitize_column\u001B[49m\u001B[43m(\u001B[49m\u001B[43mvalue\u001B[49m\u001B[43m)\u001B[49m\n\u001B[1;32m   4439\u001B[0m \u001B[38;5;28mself\u001B[39m\u001B[38;5;241m.\u001B[39m_mgr\u001B[38;5;241m.\u001B[39minsert(loc, column, value)\n",
      "File \u001B[0;32m~/miniconda3/envs/bio/lib/python3.8/site-packages/pandas/core/frame.py:4529\u001B[0m, in \u001B[0;36mDataFrame._sanitize_column\u001B[0;34m(self, value)\u001B[0m\n\u001B[1;32m   4526\u001B[0m     \u001B[38;5;28;01mreturn\u001B[39;00m _reindex_for_setitem(value, \u001B[38;5;28mself\u001B[39m\u001B[38;5;241m.\u001B[39mindex)\n\u001B[1;32m   4528\u001B[0m \u001B[38;5;28;01mif\u001B[39;00m is_list_like(value):\n\u001B[0;32m-> 4529\u001B[0m     \u001B[43mcom\u001B[49m\u001B[38;5;241;43m.\u001B[39;49m\u001B[43mrequire_length_match\u001B[49m\u001B[43m(\u001B[49m\u001B[43mvalue\u001B[49m\u001B[43m,\u001B[49m\u001B[43m \u001B[49m\u001B[38;5;28;43mself\u001B[39;49m\u001B[38;5;241;43m.\u001B[39;49m\u001B[43mindex\u001B[49m\u001B[43m)\u001B[49m\n\u001B[1;32m   4530\u001B[0m \u001B[38;5;28;01mreturn\u001B[39;00m sanitize_array(value, \u001B[38;5;28mself\u001B[39m\u001B[38;5;241m.\u001B[39mindex, copy\u001B[38;5;241m=\u001B[39m\u001B[38;5;28;01mTrue\u001B[39;00m, allow_2d\u001B[38;5;241m=\u001B[39m\u001B[38;5;28;01mTrue\u001B[39;00m)\n",
      "File \u001B[0;32m~/miniconda3/envs/bio/lib/python3.8/site-packages/pandas/core/common.py:557\u001B[0m, in \u001B[0;36mrequire_length_match\u001B[0;34m(data, index)\u001B[0m\n\u001B[1;32m    553\u001B[0m \u001B[38;5;124;03m\"\"\"\u001B[39;00m\n\u001B[1;32m    554\u001B[0m \u001B[38;5;124;03mCheck the length of data matches the length of the index.\u001B[39;00m\n\u001B[1;32m    555\u001B[0m \u001B[38;5;124;03m\"\"\"\u001B[39;00m\n\u001B[1;32m    556\u001B[0m \u001B[38;5;28;01mif\u001B[39;00m \u001B[38;5;28mlen\u001B[39m(data) \u001B[38;5;241m!=\u001B[39m \u001B[38;5;28mlen\u001B[39m(index):\n\u001B[0;32m--> 557\u001B[0m     \u001B[38;5;28;01mraise\u001B[39;00m \u001B[38;5;167;01mValueError\u001B[39;00m(\n\u001B[1;32m    558\u001B[0m         \u001B[38;5;124m\"\u001B[39m\u001B[38;5;124mLength of values \u001B[39m\u001B[38;5;124m\"\u001B[39m\n\u001B[1;32m    559\u001B[0m         \u001B[38;5;124mf\u001B[39m\u001B[38;5;124m\"\u001B[39m\u001B[38;5;124m(\u001B[39m\u001B[38;5;132;01m{\u001B[39;00m\u001B[38;5;28mlen\u001B[39m(data)\u001B[38;5;132;01m}\u001B[39;00m\u001B[38;5;124m) \u001B[39m\u001B[38;5;124m\"\u001B[39m\n\u001B[1;32m    560\u001B[0m         \u001B[38;5;124m\"\u001B[39m\u001B[38;5;124mdoes not match length of index \u001B[39m\u001B[38;5;124m\"\u001B[39m\n\u001B[1;32m    561\u001B[0m         \u001B[38;5;124mf\u001B[39m\u001B[38;5;124m\"\u001B[39m\u001B[38;5;124m(\u001B[39m\u001B[38;5;132;01m{\u001B[39;00m\u001B[38;5;28mlen\u001B[39m(index)\u001B[38;5;132;01m}\u001B[39;00m\u001B[38;5;124m)\u001B[39m\u001B[38;5;124m\"\u001B[39m\n\u001B[1;32m    562\u001B[0m     )\n",
      "\u001B[0;31mValueError\u001B[0m: Length of values (477) does not match length of index (4737)"
     ]
    }
   ],
   "source": [
    "# For forecast set\n",
    "\n",
    "# @TODO: We don't have the data for forecast :(\n",
    "\n",
    "# Need to find the entire 65bp sequence around the guide sequences in the dataset.\n",
    "\n",
    "seqs = algient.iloc[:, 0].to_numpy().astype(str)\n",
    "guides_fc = forecast.iloc[:, 0].to_numpy().astype(str)\n",
    "\n",
    "full_sequence_column = []\n",
    "\n",
    "for gi, guide in enumerate(guides_fc):\n",
    "    for si, seq in enumerate(seqs):\n",
    "\n",
    "        try:\n",
    "            if guide in seq:\n",
    "                # Found a match\n",
    "\n",
    "                # Find the second occurrence of the guide sequence\n",
    "                second_occurrence = seq.index(guide, seq.index(guide) + 1)\n",
    "\n",
    "                # Get 65bp sequence around cleavage site as follows 30bp | 35bp\n",
    "                start = second_occurrence - 13\n",
    "                end = start + 65\n",
    "\n",
    "\n",
    "                seq_65bp = seq[start:end]\n",
    "                full_sequence_column.append(seq_65bp)\n",
    "\n",
    "                # Only use the first hit\n",
    "                break\n",
    "        except Exception:\n",
    "            break\n",
    "\n",
    "print(\"Done\", len(full_sequence_column))\n",
    "forecast.insert(1, \"65bp\", full_sequence_column, True)\n",
    "forecast.to_csv(\"./data/Lindel_ForeCasT_testset_4000+samples_65bp.csv\")\n"
   ],
   "metadata": {
    "collapsed": false,
    "pycharm": {
     "name": "#%%\n"
    }
   }
  },
  {
   "cell_type": "code",
   "execution_count": null,
   "outputs": [],
   "source": [],
   "metadata": {
    "collapsed": false,
    "pycharm": {
     "name": "#%%\n"
    }
   }
  }
 ],
 "metadata": {
  "interpreter": {
   "hash": "b34dc2307e58e1a1d1e57cf7ef01b077b034c069b8a201720687e01a8602b64b"
  },
  "kernelspec": {
   "display_name": "Python 3",
   "language": "python",
   "name": "python3"
  },
  "language_info": {
   "codemirror_mode": {
    "name": "ipython",
    "version": 3
   },
   "file_extension": ".py",
   "mimetype": "text/x-python",
   "name": "python",
   "nbconvert_exporter": "python",
   "pygments_lexer": "ipython3",
   "version": "3.9.7"
  }
 },
 "nbformat": 4,
 "nbformat_minor": 5
}